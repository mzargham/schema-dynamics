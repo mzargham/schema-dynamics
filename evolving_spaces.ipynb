{
 "cells": [
  {
   "cell_type": "code",
   "execution_count": 1,
   "metadata": {},
   "outputs": [],
   "source": [
    "#normal python stuff\n",
    "from copy import deepcopy\n",
    "import numpy as np\n",
    "import pandas as pd\n",
    "import matplotlib.pyplot as plt\n",
    "\n",
    "import os"
   ]
  },
  {
   "cell_type": "code",
   "execution_count": 2,
   "metadata": {},
   "outputs": [],
   "source": [
    "#import local helper\n",
    "import helpers"
   ]
  },
  {
   "cell_type": "code",
   "execution_count": 3,
   "metadata": {},
   "outputs": [],
   "source": [
    "#local cadcad stuff\n",
    "\n",
    "os.chdir(\"/Users/zargham/Documents/GitHub/cadcad-ri\")\n",
    "from cadcad.spaces import space\n",
    "from cadcad.dynamics import block\n",
    "from cadcad.spaces import EmptySpace, Bit, Real\n",
    "from cadcad.points import Point\n",
    "from cadcad.systems import Experiment"
   ]
  },
  {
   "cell_type": "code",
   "execution_count": 4,
   "metadata": {},
   "outputs": [],
   "source": [
    "spaceType = type(EmptySpace)"
   ]
  },
  {
   "cell_type": "code",
   "execution_count": 5,
   "metadata": {},
   "outputs": [
    {
     "name": "stdout",
     "output_type": "stream",
     "text": [
      "<class 'cadcad.spaces.Space'>\n"
     ]
    }
   ],
   "source": [
    "print(spaceType)"
   ]
  },
  {
   "cell_type": "code",
   "execution_count": 6,
   "metadata": {},
   "outputs": [],
   "source": [
    "## let's try something weird\n",
    "## we will make a space containing a space\n",
    "\n",
    "@space\n",
    "class ContributionSchema:\n",
    "    schema: spaceType"
   ]
  },
  {
   "cell_type": "code",
   "execution_count": 7,
   "metadata": {},
   "outputs": [
    {
     "name": "stdout",
     "output_type": "stream",
     "text": [
      "Space ContributionSchema has dimensions {'schema': 'Space'}\n"
     ]
    }
   ],
   "source": [
    "print(ContributionSchema)"
   ]
  },
  {
   "cell_type": "code",
   "execution_count": 8,
   "metadata": {},
   "outputs": [],
   "source": [
    "@space\n",
    "class InitSchema:\n",
    "    a: int\n",
    "    b: float\n",
    "    c: str"
   ]
  },
  {
   "cell_type": "code",
   "execution_count": 9,
   "metadata": {},
   "outputs": [],
   "source": [
    "@block\n",
    "def randomSchemaChange(domain:Point[ContributionSchema])->Point[ContributionSchema]:\n",
    "    input = deepcopy(domain)\n",
    "    rng = np.random.randn()\n",
    "\n",
    "    if rng <-1.0:\n",
    "        #drop a dimension\n",
    "        options = list(input.data['schema'].dimensions().keys())\n",
    "        print(options)\n",
    "        dk = np.random.choice(options)\n",
    "        NewSchema = helpers.drop_dimension(input.data['schema'], dk)\n",
    "        \n",
    "        return Point(ContributionSchema, {'schema':NewSchema})\n",
    "\n",
    "    elif rng >-1.0:\n",
    "        #add a dimension\n",
    "        nk = np.random.choice(helpers.WORDS)\n",
    "        NewSchema = Bit.rename_dims({'bit':nk}) + input.data['schema']\n",
    "\n",
    "        return Point(ContributionSchema, {'schema':NewSchema})\n",
    "    \n",
    "    else:\n",
    "        return input\n",
    "    #else:\n",
    "        #nest a dimension\n"
   ]
  },
  {
   "cell_type": "code",
   "execution_count": 10,
   "metadata": {},
   "outputs": [],
   "source": [
    "CS2 = ContributionSchema**2"
   ]
  },
  {
   "cell_type": "code",
   "execution_count": 11,
   "metadata": {},
   "outputs": [
    {
     "name": "stdout",
     "output_type": "stream",
     "text": [
      "Space 2-ContributionSchema has dimensions {'contributionschema_0': 'ContributionSchema', 'contributionschema_1': 'ContributionSchema'}\n"
     ]
    }
   ],
   "source": [
    "print(CS2)"
   ]
  },
  {
   "cell_type": "code",
   "execution_count": 12,
   "metadata": {},
   "outputs": [],
   "source": [
    "@block\n",
    "def schemaDistance(domain:Point[CS2])->Point[Real]:\n",
    "    schema0 = domain['contributionschema_0'].data['schema'].unroll_schema()\n",
    "    schema1 = domain['contributionschema_1'].data['schema'].unroll_schema()\n",
    "\n",
    "    #schema0 and schema1 are nested dictionaries\n",
    "    #include a distance measure for nested dictionaries here\n",
    "    value = 0.0\n",
    "\n",
    "    return Point(Real, value)\n"
   ]
  },
  {
   "cell_type": "code",
   "execution_count": 13,
   "metadata": {},
   "outputs": [],
   "source": [
    "schemaPt = Point(ContributionSchema, {'schema':InitSchema})"
   ]
  },
  {
   "cell_type": "code",
   "execution_count": 14,
   "metadata": {},
   "outputs": [
    {
     "name": "stdout",
     "output_type": "stream",
     "text": [
      "Point in space ContributionSchema has data\n",
      "{\n",
      "    \"schema\": \"Space InitSchema has dimensions {'a': 'int', 'b': 'float', 'c': 'str'}\"\n",
      "}\n",
      "\n"
     ]
    }
   ],
   "source": [
    "print(schemaPt)"
   ]
  },
  {
   "cell_type": "code",
   "execution_count": 15,
   "metadata": {},
   "outputs": [
    {
     "name": "stdout",
     "output_type": "stream",
     "text": [
      "Point in space ContributionSchema has data\n",
      "{\n",
      "    \"schema\": \"Space Bit+InitSchema has dimensions {'byebye': 'bool', 'a': 'int', 'b': 'float', 'c': 'str'}\"\n",
      "}\n",
      "\n"
     ]
    }
   ],
   "source": [
    "print(randomSchemaChange(schemaPt))"
   ]
  },
  {
   "cell_type": "code",
   "execution_count": 16,
   "metadata": {},
   "outputs": [
    {
     "name": "stdout",
     "output_type": "stream",
     "text": [
      "Point in space ContributionSchema has data\n",
      "{\n",
      "    \"schema\": \"Space Bit+Bit+InitSchema has dimensions {'hi': 'bool', 'hi_1': 'bool', 'a': 'int', 'b': 'float', 'c': 'str'}\"\n",
      "}\n",
      "\n"
     ]
    }
   ],
   "source": [
    "print(randomSchemaChange(randomSchemaChange(schemaPt)))"
   ]
  },
  {
   "cell_type": "code",
   "execution_count": 17,
   "metadata": {},
   "outputs": [
    {
     "name": "stdout",
     "output_type": "stream",
     "text": [
      "['bananas', 'byebye', 'a', 'b', 'c']\n",
      "['bananas', 'bananas_1', 'byebye', 'b', 'c']\n",
      "['byebye', 'byebye_1', 'bananas_1', 'byebye_1_1', 'b', 'c']\n",
      "['ho', 'byebye', 'byebye_1', 'bananas_1', 'byebye_1_1', 'b']\n",
      "['hi', 'bananas', 'a', 'b', 'c']\n",
      "['apples', 'hi', 'bananas', 'a', 'c']\n"
     ]
    }
   ],
   "source": [
    "experiment_params = {\"iteration_n\": 2, \"steps\": 10}\n",
    "my_experiment = Experiment(schemaPt, experiment_params, (randomSchemaChange,))\n",
    "\n",
    "results = my_experiment.run()"
   ]
  },
  {
   "cell_type": "code",
   "execution_count": 18,
   "metadata": {},
   "outputs": [
    {
     "data": {
      "text/plain": [
       "[<cadcad.systems.Trajectory at 0x7fad38b68280>,\n",
       " <cadcad.systems.Trajectory at 0x7facc825b340>]"
      ]
     },
     "execution_count": 18,
     "metadata": {},
     "output_type": "execute_result"
    }
   ],
   "source": [
    "results"
   ]
  },
  {
   "cell_type": "code",
   "execution_count": 19,
   "metadata": {},
   "outputs": [
    {
     "data": {
      "text/plain": [
       "[<cadcad.points.Point at 0x7fad38b69060>,\n",
       " <cadcad.points.Point at 0x7facc8259360>,\n",
       " <cadcad.points.Point at 0x7facc825aec0>,\n",
       " <cadcad.points.Point at 0x7fad38b68f10>,\n",
       " <cadcad.points.Point at 0x7facc825b6a0>,\n",
       " <cadcad.points.Point at 0x7fad38b69ea0>,\n",
       " <cadcad.points.Point at 0x7fad38b6a740>,\n",
       " <cadcad.points.Point at 0x7fad38b68460>,\n",
       " <cadcad.points.Point at 0x7fad38b6a050>,\n",
       " <cadcad.points.Point at 0x7fad38b6a0b0>]"
      ]
     },
     "execution_count": 19,
     "metadata": {},
     "output_type": "execute_result"
    }
   ],
   "source": [
    "results[0].data"
   ]
  },
  {
   "cell_type": "code",
   "execution_count": 20,
   "metadata": {},
   "outputs": [
    {
     "name": "stdout",
     "output_type": "stream",
     "text": [
      "Point in space ContributionSchema has data\n",
      "{\n",
      "    \"schema\": \"Space Bit+InitSchema has dimensions {'byebye': 'bool', 'a': 'int', 'b': 'float', 'c': 'str'}\"\n",
      "}\n",
      "\n",
      "Point in space ContributionSchema has data\n",
      "{\n",
      "    \"schema\": \"Space Bit+Bit+InitSchema has dimensions {'bananas': 'bool', 'byebye': 'bool', 'b': 'float', 'c': 'str'}\"\n",
      "}\n",
      "\n",
      "Point in space ContributionSchema has data\n",
      "{\n",
      "    \"schema\": \"Space Bit+Bit+InitSchema has dimensions {'bananas': 'bool', 'byebye': 'bool', 'b': 'float', 'c': 'str'}\"\n",
      "}\n",
      "\n",
      "Point in space ContributionSchema has data\n",
      "{\n",
      "    \"schema\": \"Space Bit+Bit+Bit+InitSchema has dimensions {'bananas_1': 'bool', 'byebye': 'bool', 'b': 'float', 'c': 'str'}\"\n",
      "}\n",
      "\n",
      "Point in space ContributionSchema has data\n",
      "{\n",
      "    \"schema\": \"Space Bit+Bit+Bit+InitSchema has dimensions {'bananas_1': 'bool', 'byebye': 'bool', 'b': 'float', 'c': 'str'}\"\n",
      "}\n",
      "\n",
      "Point in space ContributionSchema has data\n",
      "{\n",
      "    \"schema\": \"Space Bit+Bit+Bit+Bit+InitSchema has dimensions {'byebye': 'bool', 'bananas_1': 'bool', 'byebye_1': 'bool', 'b': 'float', 'c': 'str'}\"\n",
      "}\n",
      "\n",
      "Point in space ContributionSchema has data\n",
      "{\n",
      "    \"schema\": \"Space Bit+Bit+Bit+Bit+Bit+InitSchema has dimensions {'byebye': 'bool', 'byebye_1': 'bool', 'bananas_1': 'bool', 'byebye_1_1': 'bool', 'b': 'float'}\"\n",
      "}\n",
      "\n",
      "Point in space ContributionSchema has data\n",
      "{\n",
      "    \"schema\": \"Space Bit+Bit+Bit+Bit+Bit+InitSchema has dimensions {'byebye': 'bool', 'byebye_1': 'bool', 'bananas_1': 'bool', 'byebye_1_1': 'bool', 'b': 'float'}\"\n",
      "}\n",
      "\n",
      "Point in space ContributionSchema has data\n",
      "{\n",
      "    \"schema\": \"Space Bit+Bit+Bit+Bit+Bit+Bit+InitSchema has dimensions {'ho': 'bool', 'byebye': 'bool', 'byebye_1': 'bool', 'bananas_1': 'bool', 'byebye_1_1': 'bool'}\"\n",
      "}\n",
      "\n",
      "Point in space ContributionSchema has data\n",
      "{\n",
      "    \"schema\": \"Space Bit+Bit+Bit+Bit+Bit+Bit+InitSchema has dimensions {'ho': 'bool', 'byebye': 'bool', 'byebye_1': 'bool', 'bananas_1': 'bool', 'byebye_1_1': 'bool'}\"\n",
      "}\n",
      "\n",
      "Point in space ContributionSchema has data\n",
      "{\n",
      "    \"schema\": \"Space Bit+InitSchema has dimensions {'bananas': 'bool', 'a': 'int', 'b': 'float', 'c': 'str'}\"\n",
      "}\n",
      "\n",
      "Point in space ContributionSchema has data\n",
      "{\n",
      "    \"schema\": \"Space Bit+Bit+InitSchema has dimensions {'hi': 'bool', 'bananas': 'bool', 'a': 'int', 'c': 'str'}\"\n",
      "}\n",
      "\n",
      "Point in space ContributionSchema has data\n",
      "{\n",
      "    \"schema\": \"Space Bit+Bit+InitSchema has dimensions {'hi': 'bool', 'bananas': 'bool', 'a': 'int', 'c': 'str'}\"\n",
      "}\n",
      "\n",
      "Point in space ContributionSchema has data\n",
      "{\n",
      "    \"schema\": \"Space Bit+Bit+Bit+InitSchema has dimensions {'apples': 'bool', 'hi': 'bool', 'bananas': 'bool', 'a': 'int'}\"\n",
      "}\n",
      "\n",
      "Point in space ContributionSchema has data\n",
      "{\n",
      "    \"schema\": \"Space Bit+Bit+Bit+InitSchema has dimensions {'apples': 'bool', 'hi': 'bool', 'bananas': 'bool', 'a': 'int'}\"\n",
      "}\n",
      "\n",
      "Point in space ContributionSchema has data\n",
      "{\n",
      "    \"schema\": \"Space Bit+Bit+Bit+Bit+InitSchema has dimensions {'ho': 'bool', 'apples': 'bool', 'hi': 'bool', 'bananas': 'bool', 'a': 'int'}\"\n",
      "}\n",
      "\n",
      "Point in space ContributionSchema has data\n",
      "{\n",
      "    \"schema\": \"Space Bit+Bit+Bit+Bit+Bit+InitSchema has dimensions {'hi': 'bool', 'ho': 'bool', 'apples': 'bool', 'hi_1': 'bool', 'bananas': 'bool', 'a': 'int'}\"\n",
      "}\n",
      "\n",
      "Point in space ContributionSchema has data\n",
      "{\n",
      "    \"schema\": \"Space Bit+Bit+Bit+Bit+Bit+Bit+InitSchema has dimensions {'bananas': 'bool', 'hi': 'bool', 'ho': 'bool', 'apples': 'bool', 'hi_1': 'bool', 'bananas_1': 'bool', 'a': 'int'}\"\n",
      "}\n",
      "\n",
      "Point in space ContributionSchema has data\n",
      "{\n",
      "    \"schema\": \"Space Bit+Bit+Bit+Bit+Bit+Bit+Bit+InitSchema has dimensions {'ho': 'bool', 'bananas': 'bool', 'hi': 'bool', 'ho_1': 'bool', 'apples': 'bool', 'hi_1': 'bool', 'bananas_1': 'bool', 'a': 'int'}\"\n",
      "}\n",
      "\n",
      "Point in space ContributionSchema has data\n",
      "{\n",
      "    \"schema\": \"Space Bit+Bit+Bit+Bit+Bit+Bit+Bit+Bit+InitSchema has dimensions {'byebye': 'bool', 'ho': 'bool', 'bananas': 'bool', 'hi': 'bool', 'ho_1': 'bool', 'apples': 'bool', 'hi_1': 'bool', 'bananas_1': 'bool', 'a': 'int'}\"\n",
      "}\n",
      "\n"
     ]
    }
   ],
   "source": [
    "for r in results:\n",
    "    for pt in r.data:\n",
    "        print(pt)"
   ]
  },
  {
   "cell_type": "code",
   "execution_count": null,
   "metadata": {},
   "outputs": [],
   "source": []
  }
 ],
 "metadata": {
  "kernelspec": {
   "display_name": "Python 3.10.4 ('py10')",
   "language": "python",
   "name": "python3"
  },
  "language_info": {
   "codemirror_mode": {
    "name": "ipython",
    "version": 3
   },
   "file_extension": ".py",
   "mimetype": "text/x-python",
   "name": "python",
   "nbconvert_exporter": "python",
   "pygments_lexer": "ipython3",
   "version": "3.10.4"
  },
  "orig_nbformat": 4,
  "vscode": {
   "interpreter": {
    "hash": "1a8de16e480ce6c374d7a7a0f904964a05926e5b58eea6a17940b28a68c7d599"
   }
  }
 },
 "nbformat": 4,
 "nbformat_minor": 2
}
